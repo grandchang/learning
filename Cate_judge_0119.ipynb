{
 "cells": [
  {
   "cell_type": "code",
   "execution_count": 1,
   "metadata": {},
   "outputs": [],
   "source": [
    "#!/usr/bin/env python\n",
    "# coding: utf-8\n",
    "# By Grand Chang. in 2021 Jan. Use existing item_cat.xlsx to judge item's Product Family.\n",
    "\n",
    "import pandas as pd\n",
    "import numpy as np\n",
    "# import datetime\n",
    "from datetime import date\n",
    "import sys\n",
    "import pathlib\n",
    "import os\n",
    "import re"
   ]
  },
  {
   "cell_type": "code",
   "execution_count": 2,
   "metadata": {},
   "outputs": [],
   "source": [
    "filename = 'itemno_cat.xlsx'\n",
    "item_df=pd.read_excel(filename, header=0)\n",
    "# print(item_df.head(5))\n",
    "# print('Total items# : ',len(item_df))"
   ]
  },
  {
   "cell_type": "code",
   "execution_count": 3,
   "metadata": {},
   "outputs": [],
   "source": [
    "current_date=date.today()"
   ]
  },
  {
   "cell_type": "code",
   "execution_count": 4,
   "metadata": {},
   "outputs": [],
   "source": [
    "###### Write dataframe to new .xls file in new dir(currenet+newfilename)\n",
    "\n",
    "newfile = 'itemno_cat_%s' %current_date+\".xlsx\"\n",
    "# print(\"New File Name: \",newfile)"
   ]
  },
  {
   "cell_type": "code",
   "execution_count": 5,
   "metadata": {},
   "outputs": [],
   "source": [
    "writer = pd.ExcelWriter(newfile)\n",
    "# item_df.to_excel(writer, sheet_name= 'Raw_Data',na_rep=False,index=False,header=True)"
   ]
  },
  {
   "cell_type": "code",
   "execution_count": 6,
   "metadata": {},
   "outputs": [],
   "source": [
    "item_df['CheckCat']=\"TBC\"\n",
    "# item_df"
   ]
  },
  {
   "cell_type": "markdown",
   "metadata": {},
   "source": [
    "## Read dataframe['ITEM'] to compare with pattern -- Base on naming rule for System Products:'SYS|PIO|AS ''-'+ 數字{3,4}+'英文字母{1,2}+'-'+“數字或英文字母中的相關features-”"
   ]
  },
  {
   "cell_type": "code",
   "execution_count": 7,
   "metadata": {},
   "outputs": [],
   "source": [
    "cc_list = []\n",
    "list_AMD =[]\n",
    "list_Blade =[]\n",
    "list_GPU = []\n",
    "list_DCO = []\n",
    "list_SSG = []\n",
    "list_TWIN = []\n",
    "list_EBD = []\n",
    "list_FATTWIN = []\n",
    "list_FRU = []\n",
    "list_MAINSTREAM = []\n",
    "list_MAXIO = []\n",
    "list_MICROCLOUD = []\n",
    "list_MP = []\n",
    "list_ULTRA = []\n",
    "list_WIO = []\n",
    "list_Workstation =[]\n",
    "list_UP =[]\n",
    "list_RACK = []\n",
    "list_C = []\n"
   ]
  },
  {
   "cell_type": "code",
   "execution_count": 8,
   "metadata": {},
   "outputs": [],
   "source": [
    "pattern_a = r'^AS -(?![5E])' #Standard AMD Server, need to Not include EBD items.(?![xyz])\n",
    "pattern_b = r'^PIO-[12][01][123][S34][CUBS]' #OEM AMD Server, 1U/2U\n",
    "pattern_c = r'^[MS]B[AEIMS]-'#for Blade, MicroBlade\n",
    "pattern_d = r'^\\D\\D\\D-\\d{3,4}G[RPQTU]\\D?' # for GPU\n",
    "pattern_e = r'^\\D\\D\\D-60?[12][7890][RP]-(M|TD)' # for DCO x10/x11/x12'R|P'-Mxx or TDxx; must consider UP -Mxxx\n",
    "pattern_e1 = r'^\\D\\D\\D-10?2[7890][RP]-(M|TD)'\n",
    "pattern_f = r'^SSG-' # for Storage product .. Need to consider PIO\n",
    "pattern_f1 = r'^PIO-\\S*E1C'# Storage with single experder--> E1C but Ultra also with E1C.\n",
    "pattern_g = r'^\\D\\D\\D-\\d{3,4}[BPT][HTRPZ][-Q]' # For Twin Family\n",
    "pattern_h = r'^\\D\\D\\D-E\\d\\d' # For Embedded Products\n",
    "pattern_h1 = r'[15]01[589][AD]' #For Embedded with Aton, Danverton chip.\n",
    "pattern_i = r'^[SP][YI][SO]-F6[124][7890]' #For FatTwin \n",
    "pattern_j = r'^\\D\\D\\D-FRU' # For OEM FRU\n",
    "pattern_k = r'^[SP][YI][SO]-[267]0?[24][6-890][RPT]-\\w[^X]' # for Mainstream\n",
    "pattern_l = r'^\\D{3}-[26]0[2-4][89][RP]-TX' #MaxIO\n",
    "pattern_m = r'^\\D{3}-50?[34][7890]M\\D' #For MicroCloud 503xMD (MC..)\n",
    "pattern_n = r'^\\D{3}-[248]0?[48][890][UBP]-' #For MP\n",
    "pattern_n1 = r'^\\D{3}-8\\d{2,3}[UBPR]-' # For MP, SYS-8028B\n",
    "\n",
    "pattern_o = r'^\\D{3}-[126]0?[12][890]U[EXZ]?-'\n",
    "pattern_p = r'^\\D{3}-[1256]0?[12][789][RP]-W' #WIO (will included UP and DP) digit #4 --> 102, 202 (2.5\", 1U/2U, 2 CPU; 601,602 ==> 3.5\" HDD DP, 1U/2U)\n",
    "\n",
    "pattern_q = r'^^\\D{3}-[57]0?[34][7890]AD?-' # Workstation shall SYS or PIO-ddddA\n",
    "pattern_r = r'^\\D{3}-[5]0?[1234][7890]\\D(?!K)-' # UP 101-->2.5\",1U, UP; 50x-->3.5\" HDD UP, xU--> work for 102x vs. 502x issue.tomorrow\n",
    "pattern_r1 = r'^\\D{3}-[1]0?[1][7890]\\D-'# consider 101 only, no 102x (DP)\n",
    "pattern_s = r'^SRS-' # for Rack products\n",
    "pattern_t = r'\\D{3}-\\d{3}C-'\n",
    "# pattern_f = r'NODE$'\n"
   ]
  },
  {
   "cell_type": "code",
   "execution_count": 9,
   "metadata": {},
   "outputs": [],
   "source": [
    "i=0\n",
    "for item in item_df['Itemno']:\n",
    "#     if re.search(pattern_b, item):\n",
    "#         oem_c_list.append(item)\n",
    "#         if re.search(pattern_f, item):\n",
    "#             fcv_3_df['IsOEM'][fcv_3_df.index==i] = \"No\"\n",
    "#         else:\n",
    "#             fcv_3_df['IsOEM'][fcv_3_df.index==i] = \"Yes\"\n",
    "    if re.search(pattern_a, item):\n",
    "        list_AMD.append(item)\n",
    "        item_df['CheckCat'][item_df.index==i] = \"AMD\"\n",
    "    elif re.search(pattern_b, item):\n",
    "        list_AMD.append(item)\n",
    "        item_df['CheckCat'][item_df.index==i] = \"AMD\"\n",
    "    elif re.search(pattern_c, item):\n",
    "        list_Blade.append(item)\n",
    "        item_df['CheckCat'][item_df.index==i] = \"BLADE\"\n",
    "    elif re.search(pattern_d, item):\n",
    "        list_GPU.append(item)\n",
    "        item_df['CheckCat'][item_df.index==i] = \"GPU\"\n",
    "\n",
    "    elif re.search(pattern_e, item):\n",
    "        list_DCO.append(item)\n",
    "        item_df['CheckCat'][item_df.index==i] = \"DCO\"\n",
    "\n",
    "    elif re.search(pattern_e1, item):\n",
    "        list_DCO.append(item)\n",
    "        item_df['CheckCat'][item_df.index==i] = \"DCO\"\n",
    "\n",
    "    elif re.search(pattern_f, item):\n",
    "        list_SSG.append(item)\n",
    "        item_df['CheckCat'][item_df.index==i] = \"STORAGE\"\n",
    "\n",
    "\n",
    "\n",
    "    elif re.search(pattern_g, item):\n",
    "        list_TWIN.append(item)\n",
    "        item_df['CheckCat'][item_df.index==i] = \"TWIN\"\n",
    "\n",
    "    elif re.search(pattern_h, item):\n",
    "        list_EBD.append(item)\n",
    "        item_df['CheckCat'][item_df.index==i] = \"EBD\"\n",
    "\n",
    "    elif re.search(pattern_h1, item):\n",
    "        list_EBD.append(item)\n",
    "        item_df['CheckCat'][item_df.index==i] = \"EBD\"\n",
    "\n",
    "    elif re.search(pattern_i, item):\n",
    "        list_FATTWIN.append(item)\n",
    "        item_df['CheckCat'][item_df.index==i] = \"FATTWIN\"\n",
    "\n",
    "    elif re.search(pattern_j, item):\n",
    "        list_FRU.append(item)\n",
    "        item_df['CheckCat'][item_df.index==i] = \"FRU\"\n",
    "\n",
    "    elif re.search(pattern_l, item):\n",
    "        list_MAXIO.append(item)\n",
    "        item_df['CheckCat'][item_df.index==i] = \"MAXIO\"\n",
    "\n",
    "    elif re.search(pattern_m, item):\n",
    "        list_MICROCLOUD.append(item)\n",
    "        item_df['CheckCat'][item_df.index==i] = \"MICROCLOUD\"\n",
    "\n",
    "    elif re.search(pattern_n, item):\n",
    "        list_MP.append(item)\n",
    "        item_df['CheckCat'][item_df.index==i] = \"MP\"\n",
    "\n",
    "    elif re.search(pattern_n1, item):\n",
    "        list_MP.append(item)\n",
    "        item_df['CheckCat'][item_df.index==i] = \"MP\"\n",
    "\n",
    "    elif re.search(pattern_o, item):\n",
    "        list_ULTRA.append(item)\n",
    "        item_df['CheckCat'][item_df.index==i] = \"ULTRA\"\n",
    "\n",
    "    elif re.search(pattern_p, item):\n",
    "        list_WIO.append(item)\n",
    "        item_df['CheckCat'][item_df.index==i] = \"WIO\"\n",
    "\n",
    "    elif re.search(pattern_q, item):\n",
    "        list_Workstation.append(item)\n",
    "        item_df['CheckCat'][item_df.index==i] = \"Workstation\"\n",
    "\n",
    "    elif re.search(pattern_r, item):\n",
    "        list_UP.append(item)\n",
    "        item_df['CheckCat'][item_df.index==i] = \"UP\"\n",
    "\n",
    "    elif re.search(pattern_r1, item):\n",
    "        list_UP.append(item)\n",
    "        item_df['CheckCat'][item_df.index==i] = \"UP\"\n",
    "\n",
    "    elif re.search(pattern_s, item):\n",
    "        list_RACK.append(item)\n",
    "        item_df['CheckCat'][item_df.index==i] = \"RACK\"\n",
    "\n",
    "    elif re.search(pattern_t, item):\n",
    "        list_C.append(item)\n",
    "        item_df['CheckCat'][item_df.index==i] = \"CloudDC\"\n",
    "\n",
    "    elif re.search(pattern_f1, item):\n",
    "        list_SSG.append(item)\n",
    "        item_df['CheckCat'][item_df.index==i] = \"STORAGE\"\n",
    "\n",
    "\n",
    "    elif re.search(pattern_k, item):\n",
    "        list_MAINSTREAM.append(item)\n",
    "        item_df['CheckCat'][item_df.index==i] = \"MAINSTREAM\"\n",
    "\n",
    "    else:\n",
    "        cc_list.append(item)\n",
    "        item_df['CheckCat'][item_df.index==i] = \"Others\"\n",
    "        \n",
    "    i=i+1"
   ]
  },
  {
   "cell_type": "code",
   "execution_count": 10,
   "metadata": {},
   "outputs": [
    {
     "name": "stdout",
     "output_type": "stream",
     "text": [
      "AMD 84 Blade 223 GPU 170 DCO 34 SSG 288 TWIN 395 EBD 158 FATTWIN 160 FRU 209 MAINSTREAN 99 MAXIO 7 MICROCLOUD 29 MP 46 ULTRA 296 WIO 95 Workstation 28 UP 173 CloudDC 4 OTHERS 496\n"
     ]
    }
   ],
   "source": [
    "print ('AMD',len(list_AMD),'Blade', len(list_Blade),'GPU', len(list_GPU),'DCO', len(list_DCO),'SSG', len(list_SSG),\n",
    "       'TWIN', len(list_TWIN),'EBD', len(list_EBD),'FATTWIN', len(list_FATTWIN),'FRU', len(list_FRU),'MAINSTREAN',\n",
    "       len(list_MAINSTREAM),'MAXIO', len(list_MAXIO),'MICROCLOUD', len(list_MICROCLOUD),'MP', len(list_MP),'ULTRA', len(list_ULTRA) \n",
    "       ,'WIO', len(list_WIO),'Workstation', len(list_Workstation), 'UP', len(list_UP), 'CloudDC', len(list_C) ,'OTHERS', len(cc_list))"
   ]
  },
  {
   "cell_type": "code",
   "execution_count": 11,
   "metadata": {},
   "outputs": [],
   "source": [
    "# print(item_df.head(20))"
   ]
  },
  {
   "cell_type": "code",
   "execution_count": 12,
   "metadata": {},
   "outputs": [],
   "source": [
    "# oem_items.to_excel(f'OEM_itemno.xlsx', na_rep=False,index=False,header=True)\n",
    "item_df.to_excel(writer, sheet_name= 'New_Data',na_rep=False,index=False,header=True)\n",
    "writer.close()"
   ]
  },
  {
   "cell_type": "code",
   "execution_count": null,
   "metadata": {},
   "outputs": [],
   "source": []
  },
  {
   "cell_type": "code",
   "execution_count": null,
   "metadata": {},
   "outputs": [],
   "source": []
  }
 ],
 "metadata": {
  "kernelspec": {
   "display_name": "Python 3",
   "language": "python",
   "name": "python3"
  },
  "language_info": {
   "codemirror_mode": {
    "name": "ipython",
    "version": 3
   },
   "file_extension": ".py",
   "mimetype": "text/x-python",
   "name": "python",
   "nbconvert_exporter": "python",
   "pygments_lexer": "ipython3",
   "version": "3.7.3"
  }
 },
 "nbformat": 4,
 "nbformat_minor": 4
}
