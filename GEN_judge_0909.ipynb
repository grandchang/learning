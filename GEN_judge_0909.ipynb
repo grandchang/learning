{
 "cells": [
  {
   "cell_type": "code",
   "execution_count": 1,
   "metadata": {},
   "outputs": [],
   "source": [
    "#!/usr/bin/env python\n",
    "# coding: utf-8\n",
    "\n",
    "# use this itemno-asia-Gen-OEM.xlsx --> itemno_cat.xlsx for PowerBI daily shipment analysis.\n",
    "import pandas as pd\n",
    "import openpyxl\n",
    "\n",
    "import numpy as np\n",
    "import datetime\n",
    "from datetime import date\n",
    "import sys\n",
    "import pathlib\n",
    "import os\n",
    "import re"
   ]
  },
  {
   "cell_type": "markdown",
   "metadata": {},
   "source": [
    "# run script with filename that data download"
   ]
  },
  {
   "cell_type": "code",
   "execution_count": 2,
   "metadata": {},
   "outputs": [
    {
     "data": {
      "text/html": [
       "<div>\n",
       "<style scoped>\n",
       "    .dataframe tbody tr th:only-of-type {\n",
       "        vertical-align: middle;\n",
       "    }\n",
       "\n",
       "    .dataframe tbody tr th {\n",
       "        vertical-align: top;\n",
       "    }\n",
       "\n",
       "    .dataframe thead th {\n",
       "        text-align: right;\n",
       "    }\n",
       "</style>\n",
       "<table border=\"1\" class=\"dataframe\">\n",
       "  <thead>\n",
       "    <tr style=\"text-align: right;\">\n",
       "      <th></th>\n",
       "      <th>Itemno</th>\n",
       "      <th>Gen</th>\n",
       "      <th>Cat</th>\n",
       "      <th>PM</th>\n",
       "      <th>IsOEM</th>\n",
       "    </tr>\n",
       "  </thead>\n",
       "  <tbody>\n",
       "    <tr>\n",
       "      <th>0</th>\n",
       "      <td>AS -1013S-MTR</td>\n",
       "      <td>H11</td>\n",
       "      <td>AMD</td>\n",
       "      <td>Robin Yin</td>\n",
       "      <td>No</td>\n",
       "    </tr>\n",
       "    <tr>\n",
       "      <th>1</th>\n",
       "      <td>AS -1014S-WTRT</td>\n",
       "      <td>H12</td>\n",
       "      <td>AMD</td>\n",
       "      <td>Robin Yin</td>\n",
       "      <td>No</td>\n",
       "    </tr>\n",
       "    <tr>\n",
       "      <th>2</th>\n",
       "      <td>AS -1014S-WTRT-1-QS004</td>\n",
       "      <td>H12</td>\n",
       "      <td>AMD</td>\n",
       "      <td>Peter Chang</td>\n",
       "      <td>Yes</td>\n",
       "    </tr>\n",
       "    <tr>\n",
       "      <th>3</th>\n",
       "      <td>AS -1014S-WTRT-AQS-QT001</td>\n",
       "      <td>H12</td>\n",
       "      <td>AMD</td>\n",
       "      <td>False</td>\n",
       "      <td>Yes</td>\n",
       "    </tr>\n",
       "    <tr>\n",
       "      <th>4</th>\n",
       "      <td>AS -1014S-WTRT-GCF-QT001</td>\n",
       "      <td>H12</td>\n",
       "      <td>AMD</td>\n",
       "      <td>False</td>\n",
       "      <td>Yes</td>\n",
       "    </tr>\n",
       "  </tbody>\n",
       "</table>\n",
       "</div>"
      ],
      "text/plain": [
       "                     Itemno  Gen  Cat           PM IsOEM\n",
       "0             AS -1013S-MTR  H11  AMD    Robin Yin    No\n",
       "1            AS -1014S-WTRT  H12  AMD    Robin Yin    No\n",
       "2    AS -1014S-WTRT-1-QS004  H12  AMD  Peter Chang   Yes\n",
       "3  AS -1014S-WTRT-AQS-QT001  H12  AMD        False   Yes\n",
       "4  AS -1014S-WTRT-GCF-QT001  H12  AMD        False   Yes"
      ]
     },
     "execution_count": 2,
     "metadata": {},
     "output_type": "execute_result"
    }
   ],
   "source": [
    "filename = 'itemno_cat.xlsx'\n",
    "# currentPath= pathlib.Path().absolute()\n",
    "\n",
    "fcreview= pd.read_excel(filename, header=0)\n",
    "fcreview.head(5)"
   ]
  },
  {
   "cell_type": "code",
   "execution_count": 3,
   "metadata": {},
   "outputs": [],
   "source": [
    "fcreview.to_excel(f'itemno-cat_backup.xlsx', na_rep=False,index=False,header=True)\n",
    "\n",
    "fcv_3_df=fcreview\n"
   ]
  },
  {
   "cell_type": "markdown",
   "metadata": {},
   "source": [
    "## Read dataframe['Itemno'] to compare with pattern -- Base on last  rule for "
   ]
  },
  {
   "cell_type": "code",
   "execution_count": 4,
   "metadata": {},
   "outputs": [],
   "source": [
    "Gen_list = []\n",
    "X7_list = []\n",
    "X8_list = []\n",
    "X9_list = []\n",
    "X10_list = []\n",
    "X11_list = []\n",
    "X12_list = []\n",
    "H11_list = []\n",
    "H12_list = []\n"
   ]
  },
  {
   "cell_type": "code",
   "execution_count": 5,
   "metadata": {},
   "outputs": [],
   "source": [
    "# pattern_h31 = r'^AS -\\d\\d\\d3\\D'(PIO or AS use \"\\D|D|D“（字母==Not \\d）\",-, then 數字，數字，可有可無的數字，“3”-->H11 ， 字母)\n",
    "\n",
    "pattern_h31 = r'(AS |PIO)-\\d\\d(\\d)?3[A-Z]'\n",
    "# (AS |PIO)== for either AS or PIO.\n",
    "pattern_h41 = r'^(AS |PIO)-\\d\\d(\\d)?4[A-Z]'\n",
    "# Question-- pattern_h43 = r'^|D|D|D-\\d\\d4\\D', there are Other pri-fix as MBE-314E-xxx, SBI-628E\n",
    "\n",
    "\n",
    "pattern_x71 = r'^(SYS|PIO)-\\d\\d\\d5\\D'\n",
    "\n",
    "\n",
    "pattern_x81 = r'^(SYS|PIO)-\\d\\d(\\d)?6\\D'\n",
    "# pattern_x82 = r'^\\D\\D\\D-\\d\\d6\\D'\n",
    "\n",
    "pattern_x91 = r'^\\D\\D\\D-\\d\\d(\\d)?7\\D'\n",
    "# pattern_x92 = r'^\\D\\D\\D-\\d\\d7\\D'\n",
    "pattern_x93 = r'^\\D\\D\\D-F\\d\\d7\\D'\n",
    "\n",
    "# pattern_x101 = r'^\\D\\D\\D-[\\dF]\\d(\\d)?8\\D'\n",
    "# pattern_x101 = r'^\\D\\D[^E]-[\\dF]\\d(\\d)?8\\D'\n",
    "pattern_x101 = r'^(SYS|PIO|MBI|SBI|SRS|SSG|SSP|SYC)-[\\dF]\\d(\\d)?8\\D'\n",
    "# pattern_x102 = r'^\\D\\D\\D-\\d\\d8\\D'\n",
    "# pattern_x103 = r'^\\D\\D\\D-F\\d\\d8\\D'\n",
    "pattern_x104 = r'^\\D\\D\\D-E\\d\\d(\\d)?-8'\n",
    "\n",
    "pattern_x111 = r'^[^A]\\D\\D-[\\dF]\\d(\\d)?9\\D'\n",
    "# pattern_x112 = r'^\\D\\D\\D-\\d\\d9\\D'\n",
    "# pattern_x113 = r'^\\D\\D\\D-F\\d\\d9\\D'\n",
    "# pattern_x114 = r'^\\D\\D\\D-E\\d\\d\\d-9\\D'\n",
    "pattern_x115 = r'^\\D\\D\\D-E\\d\\d(\\d)?-9\\D'\n",
    "\n",
    "pattern_x121 = r'^(SYS|PIO)-\\d\\d0\\D'\n",
    "\n",
    "\n",
    "# pattern_c = r'-\\D\\D\\d\\d[0-9BCDGT]$'\n"
   ]
  },
  {
   "cell_type": "code",
   "execution_count": 6,
   "metadata": {},
   "outputs": [],
   "source": [
    "i=0\n",
    "for item in fcv_3_df['Itemno']:\n",
    "    if re.search(pattern_h31, item):\n",
    "        H11_list.append(item)\n",
    "        fcv_3_df['Gen'][fcv_3_df.index==i] = \"H11\"\n",
    "#     elif re.search(pattern_h32, item):\n",
    "#         Gen_list.append(item)\n",
    "#         fcv_3_df['Gen'][fcv_3_df.index==i] = \"H11\"\n",
    "#     elif re.search(pattern_h33, item):\n",
    "#         Gen_list.append(item)\n",
    "#         fcv_3_df['Gen'][fcv_3_df.index==i] = \"H11\"\n",
    "    elif re.search(pattern_h41, item):\n",
    "        H12_list.append(item)\n",
    "        fcv_3_df['Gen'][fcv_3_df.index==i] = \"H12\"\n",
    "#     elif re.search(pattern_h42, item):\n",
    "#         Gen_list.append(item)\n",
    "#         fcv_3_df['Gen'][fcv_3_df.index==i] = \"H12\"\n",
    "#     elif re.search(pattern_h43, item):\n",
    "#         Gen_list.append(item)\n",
    "#         fcv_3_df['Gen'][fcv_3_df.index==i] = \"H12\"\n",
    "    \n",
    "    elif re.search(pattern_x91, item):\n",
    "        X9_list.append(item)\n",
    "        fcv_3_df['Gen'][fcv_3_df.index==i] = \"X9\"       \n",
    "\n",
    "#     elif re.search(pattern_x92, item):\n",
    "#         Gen_list.append(item)\n",
    "#         fcv_3_df['Gen'][fcv_3_df.index==i] = \"X9\"\n",
    "    elif re.search(pattern_x93, item):\n",
    "        X9_list.append(item)\n",
    "        fcv_3_df['Gen'][fcv_3_df.index==i] = \"X9\"\n",
    "    \n",
    "    elif re.search(pattern_x101, item):\n",
    "        X10_list.append(item)\n",
    "        fcv_3_df['Gen'][fcv_3_df.index==i] = \"X10\"       \n",
    "#     elif re.search(pattern_x102, item):\n",
    "#         Gen_list.append(item)\n",
    "#         fcv_3_df['Gen'][fcv_3_df.index==i] = \"X10\"\n",
    "#     elif re.search(pattern_x103, item):\n",
    "#         Gen_list.append(item)\n",
    "#         fcv_3_df['Gen'][fcv_3_df.index==i] = \"X10\"\n",
    "    elif re.search(pattern_x104, item):\n",
    "        X10_list.append(item)\n",
    "        fcv_3_df['Gen'][fcv_3_df.index==i] = \"X10\"\n",
    " \n",
    "    elif re.search(pattern_x111, item):\n",
    "        X11_list.append(item)\n",
    "        fcv_3_df['Gen'][fcv_3_df.index==i] = \"X11\"       \n",
    "#     elif re.search(pattern_x112, item):\n",
    "#         Gen_list.append(item)\n",
    "#         fcv_3_df['Gen'][fcv_3_df.index==i] = \"X11\"\n",
    "#     elif re.search(pattern_x113, item):\n",
    "#         Gen_list.append(item)\n",
    "#         fcv_3_df['Gen'][fcv_3_df.index==i] = \"X11\"\n",
    "#     elif re.search(pattern_x114, item):\n",
    "#         Gen_list.append(item)\n",
    "#         fcv_3_df['Gen'][fcv_3_df.index==i] = \"X11\"\n",
    "    elif re.search(pattern_x115, item):\n",
    "        X11_list.append(item)\n",
    "        fcv_3_df['Gen'][fcv_3_df.index==i] = \"X11\"\n",
    "        \n",
    "    elif re.search(pattern_x81, item):\n",
    "        X8_list.append(item)\n",
    "        fcv_3_df['Gen'][fcv_3_df.index==i] = \"X8\"       \n",
    "#     elif re.search(pattern_x82, item):\n",
    "#         Gen_list.append(item)\n",
    "#         fcv_3_df['Gen'][fcv_3_df.index==i] = \"X8\"\n",
    "\n",
    "    elif re.search(pattern_x71, item):\n",
    "        X7_list.append(item)\n",
    "        fcv_3_df['Gen'][fcv_3_df.index==i] = \"X7\"       \n",
    "#     elif re.search(pattern_x72, item):\n",
    "#         Gen_list.append(item)\n",
    "#         fcv_3_df['Gen'][fcv_3_df.index==i] = \"X7\"\n",
    "        \n",
    "        \n",
    "    elif re.search(pattern_x121, item):\n",
    "        X12_list.append(item)\n",
    "        fcv_3_df['Gen'][fcv_3_df.index==i] = \"X12\"      \n",
    "   \n",
    "    else:\n",
    "        Gen_list.append(item)\n",
    "        fcv_3_df['Gen'][fcv_3_df.index==i] = \"No\"\n",
    "    i=i+1"
   ]
  },
  {
   "cell_type": "code",
   "execution_count": 7,
   "metadata": {},
   "outputs": [
    {
     "name": "stdout",
     "output_type": "stream",
     "text": [
      "853 --> Can't judge Genernation!\n",
      "3 --> X7\n",
      "17 --> X8\n",
      "155 --> X9\n",
      "676 --> X10\n",
      "1302 --> X11\n",
      "31 --> X12\n",
      "48 --> H11\n",
      "35 --> H12\n"
     ]
    }
   ],
   "source": [
    "print (len(Gen_list),'--> Can\\'t judge Genernation!')\n",
    "print (len(X7_list),'--> X7')\n",
    "print (len(X8_list),'--> X8')\n",
    "print (len(X9_list),'--> X9')\n",
    "print (len(X10_list),'--> X10')\n",
    "print (len(X11_list),'--> X11')\n",
    "print (len(X12_list),'--> X12')\n",
    "print (len(H11_list),'--> H11')\n",
    "print (len(H12_list),'--> H12')"
   ]
  },
  {
   "cell_type": "code",
   "execution_count": 8,
   "metadata": {},
   "outputs": [
    {
     "data": {
      "text/plain": [
       "Gen\n",
       "H11      48\n",
       "H12      35\n",
       "No      853\n",
       "X10     676\n",
       "X11    1302\n",
       "X12      31\n",
       "X7        3\n",
       "X8       17\n",
       "X9      155\n",
       "dtype: int64"
      ]
     },
     "execution_count": 8,
     "metadata": {},
     "output_type": "execute_result"
    }
   ],
   "source": [
    "fcv_3_df.groupby(\"Gen\").size()"
   ]
  },
  {
   "cell_type": "code",
   "execution_count": 9,
   "metadata": {},
   "outputs": [],
   "source": [
    "group_gen_x10 = fcv_3_df.groupby(\"Gen\").get_group(\"X10\")\n",
    "# group_gen_x10"
   ]
  },
  {
   "cell_type": "code",
   "execution_count": 10,
   "metadata": {},
   "outputs": [],
   "source": [
    "\n",
    "sort_Gen = fcv_3_df.sort_values(by=['Gen','Itemno'])\n",
    "# sort_Gen"
   ]
  },
  {
   "cell_type": "code",
   "execution_count": 59,
   "metadata": {},
   "outputs": [
    {
     "data": {
      "text/html": [
       "<div>\n",
       "<style scoped>\n",
       "    .dataframe tbody tr th:only-of-type {\n",
       "        vertical-align: middle;\n",
       "    }\n",
       "\n",
       "    .dataframe tbody tr th {\n",
       "        vertical-align: top;\n",
       "    }\n",
       "\n",
       "    .dataframe thead th {\n",
       "        text-align: right;\n",
       "    }\n",
       "</style>\n",
       "<table border=\"1\" class=\"dataframe\">\n",
       "  <thead>\n",
       "    <tr style=\"text-align: right;\">\n",
       "      <th></th>\n",
       "      <th>Itemno</th>\n",
       "      <th>Gen</th>\n",
       "      <th>Cat</th>\n",
       "      <th>PM</th>\n",
       "      <th>IsOEM</th>\n",
       "    </tr>\n",
       "  </thead>\n",
       "  <tbody>\n",
       "    <tr>\n",
       "      <th>2901</th>\n",
       "      <td>PIO-F619P2+-NODE-LC019</td>\n",
       "      <td>X11</td>\n",
       "      <td>FATTWIN</td>\n",
       "      <td>False</td>\n",
       "      <td>Yes</td>\n",
       "    </tr>\n",
       "    <tr>\n",
       "      <th>2902</th>\n",
       "      <td>PIO-F619P2-RC1-ND-QT001</td>\n",
       "      <td>X11</td>\n",
       "      <td>FATTWIN</td>\n",
       "      <td>False</td>\n",
       "      <td>Yes</td>\n",
       "    </tr>\n",
       "    <tr>\n",
       "      <th>2903</th>\n",
       "      <td>SYS-E403-9D-16C-IPD2</td>\n",
       "      <td>X11</td>\n",
       "      <td>EBD</td>\n",
       "      <td>False</td>\n",
       "      <td>No</td>\n",
       "    </tr>\n",
       "    <tr>\n",
       "      <th>2904</th>\n",
       "      <td>PIO-2124BT-HTR-NODE</td>\n",
       "      <td>H12</td>\n",
       "      <td>AMD</td>\n",
       "      <td>Stanley Huang</td>\n",
       "      <td>No</td>\n",
       "    </tr>\n",
       "    <tr>\n",
       "      <th>2905</th>\n",
       "      <td>PIO-F619P2-FT-NODE-TS29T</td>\n",
       "      <td>X11</td>\n",
       "      <td>FATTWIN</td>\n",
       "      <td>Klid Cheng</td>\n",
       "      <td>Yes</td>\n",
       "    </tr>\n",
       "  </tbody>\n",
       "</table>\n",
       "</div>"
      ],
      "text/plain": [
       "                        Itemno  Gen      Cat             PM IsOEM\n",
       "2901    PIO-F619P2+-NODE-LC019  X11  FATTWIN          False   Yes\n",
       "2902   PIO-F619P2-RC1-ND-QT001  X11  FATTWIN          False   Yes\n",
       "2903      SYS-E403-9D-16C-IPD2  X11      EBD          False    No\n",
       "2904       PIO-2124BT-HTR-NODE  H12      AMD  Stanley Huang    No\n",
       "2905  PIO-F619P2-FT-NODE-TS29T  X11  FATTWIN     Klid Cheng   Yes"
      ]
     },
     "execution_count": 59,
     "metadata": {},
     "output_type": "execute_result"
    }
   ],
   "source": [
    "# fcv_3_df.tail(5)"
   ]
  },
  {
   "cell_type": "code",
   "execution_count": 11,
   "metadata": {},
   "outputs": [],
   "source": [
    "# sort_Gen.tail(5)"
   ]
  },
  {
   "cell_type": "code",
   "execution_count": 61,
   "metadata": {},
   "outputs": [],
   "source": [
    "writer= pd.ExcelWriter(\"Itemno_cat.xlsx\", engine='openpyxl')\n"
   ]
  },
  {
   "cell_type": "code",
   "execution_count": 62,
   "metadata": {},
   "outputs": [],
   "source": [
    "fcv_3_df.to_excel(writer, na_rep=False,index=False,header=True)\n"
   ]
  },
  {
   "cell_type": "code",
   "execution_count": 63,
   "metadata": {},
   "outputs": [],
   "source": [
    "sort_Gen.to_excel(writer, sheet_name= 'by_Gen', index=False,header=True)\n",
    "writer.close()"
   ]
  },
  {
   "cell_type": "code",
   "execution_count": 64,
   "metadata": {},
   "outputs": [],
   "source": [
    "wb= openpyxl.load_workbook('Itemno_cat.xlsx')\n",
    "ws= wb['Sheet1']\n",
    "wg = wb['by_Gen']"
   ]
  },
  {
   "cell_type": "code",
   "execution_count": 65,
   "metadata": {},
   "outputs": [],
   "source": [
    "ws.column_dimensions['A'].width=32\n",
    "ws.column_dimensions['D'].width=18\n",
    "wg.column_dimensions['A'].width=32\n",
    "wg.column_dimensions['D'].width=18\n",
    "\n",
    "wb.save(\"Itemno_cat.xlsx\")\n"
   ]
  },
  {
   "cell_type": "code",
   "execution_count": 66,
   "metadata": {},
   "outputs": [
    {
     "data": {
      "text/plain": [
       "'/Users/grandc/Documents/coding/09-11'"
      ]
     },
     "execution_count": 66,
     "metadata": {},
     "output_type": "execute_result"
    }
   ],
   "source": [
    "os.getcwd()"
   ]
  },
  {
   "cell_type": "code",
   "execution_count": 67,
   "metadata": {},
   "outputs": [
    {
     "name": "stdout",
     "output_type": "stream",
     "text": [
      "total 5928\n",
      "-rw-rw-r--@ 1 grandc  staff     8820  9 12 23:01 Combin_xlsx.ipynb\n",
      "-rw-rw-r--@ 1 grandc  staff   676825  9 10 23:51 FCReview.xls\n",
      "-rw-rw-r--@ 1 grandc  staff  1683736  9 10 23:45 Forecastreview092020_Asia meeting.xlsx\n",
      "-rw-rw-r--@ 1 grandc  staff    30324  9 13 00:47 GEN_judge_0909.ipynb\n",
      "-rw-rw-r--@ 1 grandc  staff    17139  9 12 13:19 OEM_judge_0909.ipynb\n",
      "-rw-rw-r--@ 1 grandc  staff    76949  9 13 00:07 itemno-cat_backup.xlsx\n",
      "-rw-r--r--@ 1 grandc  staff   149657  9 13 00:48 itemno_cat.xlsx\n",
      "-rw-r--r--@ 1 grandc  staff   309337  9 13 00:33 itemno_cat_Prefix.xlsx\n",
      "-rw-r--r--@ 1 grandc  staff      165  9 13 00:33 ~$itemno_cat_Prefix.xlsx\n"
     ]
    }
   ],
   "source": [
    "!ls -l"
   ]
  },
  {
   "cell_type": "code",
   "execution_count": null,
   "metadata": {},
   "outputs": [],
   "source": []
  },
  {
   "cell_type": "code",
   "execution_count": null,
   "metadata": {},
   "outputs": [],
   "source": []
  }
 ],
 "metadata": {
  "kernelspec": {
   "display_name": "Python 3",
   "language": "python",
   "name": "python3"
  },
  "language_info": {
   "codemirror_mode": {
    "name": "ipython",
    "version": 3
   },
   "file_extension": ".py",
   "mimetype": "text/x-python",
   "name": "python",
   "nbconvert_exporter": "python",
   "pygments_lexer": "ipython3",
   "version": "3.7.3"
  }
 },
 "nbformat": 4,
 "nbformat_minor": 4
}
